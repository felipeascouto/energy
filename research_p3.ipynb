{
 "cells": [
  {
   "cell_type": "code",
   "execution_count": 1,
   "metadata": {},
   "outputs": [],
   "source": [
    "import pandas as pd\n",
    "import numpy as np\n",
    "import matplotlib.pyplot as plt\n",
    "import math\n",
    "import random\n",
    "from scipy import stats\n",
    "import datetime as dt\n",
    "from datetime import timedelta\n",
    "from sklearn.tree import DecisionTreeRegressor\n",
    "import sys\n",
    "from sklearn.model_selection import train_test_split\n",
    "from sklearn import linear_model\n",
    "import statsmodels.formula.api as smf\n",
    "import scipy.stats as stats"
   ]
  },
  {
   "cell_type": "code",
   "execution_count": null,
   "metadata": {},
   "outputs": [],
   "source": [
    "SPP_path = r'C:\\Users\\felip\\Desktop\\Electricity\\Energy Market\\Energy Market (SPP)'\n",
    "\n",
    "def add_info(df):\n",
    "    intervals = df[df.columns[0]].values.tolist()\n",
    "    dates = []\n",
    "    times = []\n",
    "    weekday = []\n",
    "    months = []\n",
    "    days = []\n",
    "    hour = []\n",
    "    minute_of_day = []\n",
    "    for interval in intervals:\n",
    "        date = interval.split(' ')[0]\n",
    "        try:\n",
    "            date = dt.datetime.strptime(date,'%Y-%m-%d').date()\n",
    "        except:\n",
    "            date = dt.datetime.strptime(date,'%m/%d/%Y').date()            \n",
    "        dates.append(date)\n",
    "        months.append(date.month)\n",
    "        days.append(date.day)\n",
    "        if date.weekday() < 5:\n",
    "            weekday.append(True)\n",
    "        else:\n",
    "            weekday.append(False)\n",
    "        time = interval.split(' ')[1].split('.')[0]\n",
    "        time = dt.datetime.strptime(time,'%H:%M:%S').time()\n",
    "        times.append(time)\n",
    "        hour.append(dt.time(time.hour))\n",
    "        minute_of_day.append(60*time.hour+time.minute)\n",
    "    df['Local Date'] = np.array(dates)\n",
    "    df['Local Time'] = np.array(times)\n",
    "    df['Hour'] = np.array(hour)\n",
    "    df['Weekday'] = np.array(weekday)\n",
    "    df['Month'] = np.array(months)\n",
    "    df['Day'] = np.array(days)\n",
    "    df['Minute of Day'] = np.array(minute_of_day)\n",
    "    return df\n",
    "\n",
    "def GMT2CT(s):\n",
    "    date = s.split('T')[0]\n",
    "    date = dt.datetime.strptime(date,'%Y-%m-%d').date()\n",
    "    time = s.split('T')[1][:-1]\n",
    "    hour = int(time.split(':')[0])\n",
    "    if hour >= 6:\n",
    "        hour = hour - 6\n",
    "    else:\n",
    "        hour = 24 + (hour - 6)\n",
    "        date = date - timedelta(1)\n",
    "    time = str(hour) + ':' + time.split(':')[1] + ':' + time.split(':')[2]\n",
    "    time = dt.datetime.strptime(time,'%H:%M:%S').time()\n",
    "    return [date, time]"
   ]
  },
  {
   "cell_type": "code",
   "execution_count": null,
   "metadata": {},
   "outputs": [],
   "source": [
    "gen_mix_2018 = pd.read_csv(SPP_path + '\\Generation Mix By Fuel Type\\GenMix_2018.csv')\n",
    "list_intervals = gen_mix_2018[gen_mix_2018.columns[0]].values.tolist()\n",
    "local_time = []\n",
    "local_date = []\n",
    "for value in list_intervals:\n",
    "    local_date.append(GMT2CT(value)[0])\n",
    "    local_time.append(GMT2CT(value)[1])\n",
    "gen_mix_2018['Local Date'] = np.array(local_date)\n",
    "gen_mix_2018['Local Time'] = np.array(local_time)"
   ]
  },
  {
   "cell_type": "code",
   "execution_count": null,
   "metadata": {},
   "outputs": [],
   "source": [
    "days_31 = []\n",
    "for n in range(1,10):\n",
    "    days_31.append('0'+str(n))\n",
    "for n in range(10,32):\n",
    "    days_31.append(str(n))\n",
    "cal_dict = {'01':days_31,\n",
    "            '02':days_31[0:28],\n",
    "            '03':days_31,\n",
    "           '04':days_31[0:-1],\n",
    "            '05':days_31,\n",
    "            '06':days_31[0:-1],\n",
    "           '07':days_31,\n",
    "            '08':days_31,\n",
    "            '09':days_31[0:-1],\n",
    "           '10':days_31,\n",
    "           '11':days_31[0:-1],\n",
    "           '12':days_31}"
   ]
  },
  {
   "cell_type": "code",
   "execution_count": null,
   "metadata": {},
   "outputs": [],
   "source": [
    "# Opening and concatenating RT datasets\n",
    "path = r'C:\\Users\\felip\\Desktop\\Electricity\\Energy Market\\Energy Market (SPP)\\RT\\2018'\n",
    "RT_path = 'RTBM-LMP-DAILY-SL-2018'\n",
    "end = '.csv'\n",
    "dfs = []\n",
    "for key in cal_dict.keys():\n",
    "    for value in cal_dict[key]:\n",
    "        dfs.append(pd.read_csv(path+'\\\\'+key+'\\\\By_Day\\\\'+RT_path+key+value+end))\n",
    "RT = pd.concat(dfs)\n",
    "RT.head()"
   ]
  },
  {
   "cell_type": "code",
   "execution_count": null,
   "metadata": {},
   "outputs": [],
   "source": [
    "RT2018_aggloc = RT.groupby('Interval')[['Interval',' LMP']].agg({'Interval':'first',\n",
    "                                                                    ' LMP':'mean'})\n",
    "RT2018 = add_info(RT2018_aggloc)\n",
    "RT2018 = RT2018.rename(columns={' LMP':'LMP'})\n",
    "RT2018.head()"
   ]
  },
  {
   "cell_type": "code",
   "execution_count": null,
   "metadata": {},
   "outputs": [],
   "source": [
    "# Opening and concatenating DA datasets\n",
    "path = r'C:\\Users\\felip\\Desktop\\Electricity\\Energy Market\\Energy Market (SPP)\\DA\\2018'\n",
    "DA_path = 'DA-LMP-SL-2018'\n",
    "end = '0100.csv'\n",
    "dfs = []\n",
    "for key in cal_dict.keys():\n",
    "    for value in cal_dict[key]:\n",
    "        dfs.append(pd.read_csv(path+'\\\\'+key+'\\\\By_Day\\\\'+DA_path+key+value+end))\n",
    "DA2018 = pd.concat(dfs)\n",
    "DA2018.head()"
   ]
  },
  {
   "cell_type": "code",
   "execution_count": null,
   "metadata": {},
   "outputs": [],
   "source": [
    "DA2018_aggloc = DA2018.groupby('Interval')[['Interval','LMP']].agg({'Interval':'first',\n",
    "                                                                    'LMP':'mean'})\n",
    "DA2018_aggloc = add_info(DA2018_aggloc)\n",
    "DA2018.head()"
   ]
  },
  {
   "cell_type": "code",
   "execution_count": null,
   "metadata": {},
   "outputs": [],
   "source": [
    "def ssr(prediction, test):\n",
    "    return ((prediction - test)**2).sum()\n",
    "def pe(prediction, test):\n",
    "    return (abs((prediction - test)/test))*100\n",
    "def filler(df, DA):\n",
    "    price_list = df[DA].values.tolist()\n",
    "    value = 0.0\n",
    "    new_list = []\n",
    "    for price in price_list:\n",
    "        if math.isnan(price)==True:\n",
    "            new_list.append(value)\n",
    "        else:\n",
    "            value = price\n",
    "            new_list.append(price)\n",
    "    df[DA] = np.array(new_list)\n",
    "    return df\n",
    "def means_dict(d):\n",
    "    means_d = {}\n",
    "    for key in d.keys():\n",
    "        means_d[key] = np.nanmean(np.array(d[key]))\n",
    "    return means_d"
   ]
  },
  {
   "cell_type": "code",
   "execution_count": null,
   "metadata": {},
   "outputs": [],
   "source": [
    "comparison = DA2018_aggloc.iloc[:,0:2].join(RT2018,how='right',lsuffix='_DA',rsuffix='_RT')\n",
    "DART2018_5min = filler(comparison, 'LMP_DA')\n",
    "gen_2018 = gen_mix_2018\n",
    "new_index = []\n",
    "for i in range(gen_2018.shape[0]):\n",
    "    new_index.append(gen_2018['Local Date'].iloc[i].strftime(\"%m/%d/%Y\") + ' ' + gen_2018['Local Time'].iloc[i].strftime(\"%H:%M:%S\"))\n",
    "gen_2018.index = np.array(new_index)\n",
    "DART_gen_2018 = gen_2018.join(DART2018_5min,how='right',lsuffix='_gen',rsuffix='_price')\n",
    "DART_gen_2018 = DART_gen_2018.rename(columns={' Average Actual Load':'Load',\n",
    "                                             ' Wind Self':'Wind',\n",
    "                                             ' Coal Market':'Coal_Mkt',\n",
    "                                             ' Coal Self':'Coal_Self',\n",
    "                                             'Local Time_price':'Local Time'})"
   ]
  },
  {
   "cell_type": "code",
   "execution_count": null,
   "metadata": {},
   "outputs": [],
   "source": [
    "def sklearn_clusters_2(train_df, depth, plot):\n",
    "    # converting datetime to int\n",
    "    minutes = []\n",
    "    for time in train_df.index:\n",
    "        minutes.append(time.hour * 60 + time.minute)\n",
    "    train_df['minutes'] = np.array(minutes)\n",
    "    X = train_df['minutes'].values.reshape(-1,1)\n",
    "    y = train_df['LMP_RT']\n",
    "    # Fit regression model\n",
    "    regr_1 = DecisionTreeRegressor(max_depth=depth)\n",
    "    regr_1.fit(X, y)\n",
    "    # Predict\n",
    "    X_test = train_df['minutes'].values.reshape(-1,1)\n",
    "    y_1 = regr_1.predict(X_test)\n",
    "    train_df['sklearn cluster'] = y_1\n",
    "    price_leaves = []\n",
    "    for price in y_1:\n",
    "        if price not in price_leaves:\n",
    "            price_leaves.append(price)\n",
    "    branch_dfs = []\n",
    "    for price in price_leaves:\n",
    "        branch_dfs.append(train_df[train_df['sklearn cluster']==price])\n",
    "    if plot == True:\n",
    "        plt.plot(X_test, y_1, color=\"cornflowerblue\",label=\"max_depth=\"+str(depth), linewidth=2)\n",
    "        plt.legend()\n",
    "    return branch_dfs"
   ]
  },
  {
   "cell_type": "code",
   "execution_count": null,
   "metadata": {},
   "outputs": [],
   "source": [
    "DART_gen_2018 = DART_gen_2018.rename(columns={'Minute of Day':'Minute'})\n"
   ]
  },
  {
   "cell_type": "code",
   "execution_count": null,
   "metadata": {},
   "outputs": [],
   "source": [
    "# Opening and concatenating DA Load datasets\n",
    "path = r'C:\\Users\\felip\\Desktop\\Electricity\\Energy Market\\Energy Market (SPP)\\DA Load\\2018'\n",
    "DA_path = 'DA-MC-2018'\n",
    "end = '0100.csv'\n",
    "dfs = []\n",
    "for key in cal_dict.keys():\n",
    "    for value in cal_dict[key]:\n",
    "        dfs.append(pd.read_csv(path+'\\\\'+key+'\\\\'+DA_path+key+value+end))\n",
    "DA_load_2018 = pd.concat(dfs)\n",
    "DA_load_2018.head()"
   ]
  },
  {
   "cell_type": "code",
   "execution_count": null,
   "metadata": {},
   "outputs": [],
   "source": [
    "DA_load_2018.index = DA_load_2018['Interval']\n",
    "comparison = DA_load_2018.iloc[:,8:9].join(DART_gen_2018,how='right')\n",
    "DART2018 = filler(comparison, ' Total Demand')\n",
    "DART2018 = DART2018.iloc[11:,:]\n",
    "DART2018 = DART2018.rename(columns={' Total Demand':'DA Load'})\n",
    "DART2018['Load_Diff'] = DART2018['Load'] - DART2018['DA Load']"
   ]
  },
  {
   "cell_type": "code",
   "execution_count": null,
   "metadata": {},
   "outputs": [],
   "source": [
    "# Adding previous-interval and moving averages\n",
    "\n",
    "DART2018_1 = DART2018.iloc[1:,:]\n",
    "previous_load_diff = DART2018['Load_Diff'].iloc[0:-1].values\n",
    "DART2018_1['Previous_Load_Diff'] = previous_load_diff\n",
    "previous_RT = DART2018['LMP_RT'].iloc[0:-1].values\n",
    "DART2018_1['Previous_RT'] = previous_RT\n",
    "\n",
    "step = 3\n",
    "previous_RT = DART2018_1['LMP_RT'].iloc[0:(DART2018_1.shape[0] - step)].values\n",
    "previous_means_RT = np.empty(previous_RT.size)\n",
    "previous_load = DART2018_1['Load_Diff'].iloc[0:(DART2018_1.shape[0] - step)].values\n",
    "previous_means_load = np.empty(previous_load.size)\n",
    "for i in range(DART2018_1.shape[0] - step):\n",
    "    previous_means_RT[i] = previous_RT[i:i+step].mean()\n",
    "    previous_means_load[i] = previous_load[i:i+step].mean()\n",
    "DART2018_2 = DART2018_1.iloc[step:,:]\n",
    "DART2018_2['Previous_RT_2'] = previous_means_RT\n",
    "DART2018_2['Previous_Load_Diff_2'] = previous_means_load\n",
    "DART2018_2.iloc[:,22:]\n"
   ]
  },
  {
   "cell_type": "code",
   "execution_count": null,
   "metadata": {},
   "outputs": [],
   "source": []
  },
  {
   "cell_type": "code",
   "execution_count": null,
   "metadata": {},
   "outputs": [],
   "source": []
  },
  {
   "cell_type": "code",
   "execution_count": null,
   "metadata": {},
   "outputs": [],
   "source": []
  },
  {
   "cell_type": "code",
   "execution_count": null,
   "metadata": {},
   "outputs": [],
   "source": []
  }
 ],
 "metadata": {
  "kernelspec": {
   "display_name": "Python 3",
   "language": "python",
   "name": "python3"
  },
  "language_info": {
   "codemirror_mode": {
    "name": "ipython",
    "version": 3
   },
   "file_extension": ".py",
   "mimetype": "text/x-python",
   "name": "python",
   "nbconvert_exporter": "python",
   "pygments_lexer": "ipython3",
   "version": "3.7.1"
  }
 },
 "nbformat": 4,
 "nbformat_minor": 2
}
